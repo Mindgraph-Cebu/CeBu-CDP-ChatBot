{
 "cells": [
  {
   "cell_type": "code",
   "execution_count": 1,
   "metadata": {},
   "outputs": [],
   "source": [
    "import duckdb"
   ]
  },
  {
   "cell_type": "code",
   "execution_count": 2,
   "metadata": {},
   "outputs": [],
   "source": [
    "conn = duckdb.connect('test.db')"
   ]
  },
  {
   "cell_type": "code",
   "execution_count": 3,
   "metadata": {},
   "outputs": [],
   "source": [
    "conn.close()"
   ]
  },
  {
   "cell_type": "code",
   "execution_count": 4,
   "metadata": {},
   "outputs": [],
   "source": [
    "conn = duckdb.connect('test.db')"
   ]
  },
  {
   "cell_type": "code",
   "execution_count": 5,
   "metadata": {},
   "outputs": [],
   "source": [
    "df = conn.execute(\"select * from profile\").df()"
   ]
  },
  {
   "cell_type": "code",
   "execution_count": 6,
   "metadata": {},
   "outputs": [
    {
     "data": {
      "text/html": [
       "<div>\n",
       "<style scoped>\n",
       "    .dataframe tbody tr th:only-of-type {\n",
       "        vertical-align: middle;\n",
       "    }\n",
       "\n",
       "    .dataframe tbody tr th {\n",
       "        vertical-align: top;\n",
       "    }\n",
       "\n",
       "    .dataframe thead th {\n",
       "        text-align: right;\n",
       "    }\n",
       "</style>\n",
       "<table border=\"1\" class=\"dataframe\">\n",
       "  <thead>\n",
       "    <tr style=\"text-align: right;\">\n",
       "      <th></th>\n",
       "      <th>Passenger_name</th>\n",
       "      <th>Arrival_station</th>\n",
       "      <th>Departure_station</th>\n",
       "      <th>Date_of_birth</th>\n",
       "      <th>Gender</th>\n",
       "      <th>Meals</th>\n",
       "      <th>Baggage</th>\n",
       "      <th>Revenue</th>\n",
       "      <th>Country</th>\n",
       "      <th>Unique_passenger_id</th>\n",
       "      <th>Travel_date</th>\n",
       "    </tr>\n",
       "  </thead>\n",
       "  <tbody>\n",
       "    <tr>\n",
       "      <th>0</th>\n",
       "      <td>Cathy Baker</td>\n",
       "      <td>San Francisco</td>\n",
       "      <td>Miami</td>\n",
       "      <td>1960-09-15</td>\n",
       "      <td>Male</td>\n",
       "      <td>Vegetarian</td>\n",
       "      <td>checked baggage allowance = 16kg</td>\n",
       "      <td>741.02</td>\n",
       "      <td>New Zealand</td>\n",
       "      <td>P0000</td>\n",
       "      <td>2023-08-08</td>\n",
       "    </tr>\n",
       "    <tr>\n",
       "      <th>1</th>\n",
       "      <td>Joanne Brown</td>\n",
       "      <td>Miami</td>\n",
       "      <td>Chicago</td>\n",
       "      <td>1968-12-24</td>\n",
       "      <td>Female</td>\n",
       "      <td>Vegan</td>\n",
       "      <td>checked baggage allowance = 23kg</td>\n",
       "      <td>795.99</td>\n",
       "      <td>Antarctica (the territory South of 60 deg S)</td>\n",
       "      <td>P0001</td>\n",
       "      <td>2023-04-07</td>\n",
       "    </tr>\n",
       "    <tr>\n",
       "      <th>2</th>\n",
       "      <td>Brian Logan</td>\n",
       "      <td>Chicago</td>\n",
       "      <td>Chicago</td>\n",
       "      <td>1970-02-08</td>\n",
       "      <td>Male</td>\n",
       "      <td>Gluten-free</td>\n",
       "      <td>checked baggage allowance = 18kg</td>\n",
       "      <td>961.07</td>\n",
       "      <td>Nigeria</td>\n",
       "      <td>P0002</td>\n",
       "      <td>2023-10-04</td>\n",
       "    </tr>\n",
       "    <tr>\n",
       "      <th>3</th>\n",
       "      <td>Lindsay Lester</td>\n",
       "      <td>San Francisco</td>\n",
       "      <td>Chicago</td>\n",
       "      <td>1972-09-03</td>\n",
       "      <td>Female</td>\n",
       "      <td>Kosher</td>\n",
       "      <td>checked baggage allowance = 21kg</td>\n",
       "      <td>973.69</td>\n",
       "      <td>Ireland</td>\n",
       "      <td>P0003</td>\n",
       "      <td>2023-07-11</td>\n",
       "    </tr>\n",
       "    <tr>\n",
       "      <th>4</th>\n",
       "      <td>Steven Adams</td>\n",
       "      <td>Chicago</td>\n",
       "      <td>Miami</td>\n",
       "      <td>1953-01-14</td>\n",
       "      <td>Female</td>\n",
       "      <td>Halal</td>\n",
       "      <td>checked baggage allowance = 18kg</td>\n",
       "      <td>358.76</td>\n",
       "      <td>Japan</td>\n",
       "      <td>P0004</td>\n",
       "      <td>2023-06-10</td>\n",
       "    </tr>\n",
       "  </tbody>\n",
       "</table>\n",
       "</div>"
      ],
      "text/plain": [
       "   Passenger_name Arrival_station Departure_station Date_of_birth  Gender  \\\n",
       "0     Cathy Baker   San Francisco             Miami    1960-09-15    Male   \n",
       "1    Joanne Brown           Miami           Chicago    1968-12-24  Female   \n",
       "2     Brian Logan         Chicago           Chicago    1970-02-08    Male   \n",
       "3  Lindsay Lester   San Francisco           Chicago    1972-09-03  Female   \n",
       "4    Steven Adams         Chicago             Miami    1953-01-14  Female   \n",
       "\n",
       "         Meals                           Baggage  Revenue  \\\n",
       "0   Vegetarian  checked baggage allowance = 16kg   741.02   \n",
       "1        Vegan  checked baggage allowance = 23kg   795.99   \n",
       "2  Gluten-free  checked baggage allowance = 18kg   961.07   \n",
       "3       Kosher  checked baggage allowance = 21kg   973.69   \n",
       "4        Halal  checked baggage allowance = 18kg   358.76   \n",
       "\n",
       "                                        Country Unique_passenger_id  \\\n",
       "0                                   New Zealand               P0000   \n",
       "1  Antarctica (the territory South of 60 deg S)               P0001   \n",
       "2                                       Nigeria               P0002   \n",
       "3                                       Ireland               P0003   \n",
       "4                                         Japan               P0004   \n",
       "\n",
       "  Travel_date  \n",
       "0  2023-08-08  \n",
       "1  2023-04-07  \n",
       "2  2023-10-04  \n",
       "3  2023-07-11  \n",
       "4  2023-06-10  "
      ]
     },
     "execution_count": 6,
     "metadata": {},
     "output_type": "execute_result"
    }
   ],
   "source": [
    "df.head()"
   ]
  },
  {
   "cell_type": "code",
   "execution_count": null,
   "metadata": {},
   "outputs": [],
   "source": []
  }
 ],
 "metadata": {
  "kernelspec": {
   "display_name": "Python 3",
   "language": "python",
   "name": "python3"
  },
  "language_info": {
   "codemirror_mode": {
    "name": "ipython",
    "version": 3
   },
   "file_extension": ".py",
   "mimetype": "text/x-python",
   "name": "python",
   "nbconvert_exporter": "python",
   "pygments_lexer": "ipython3",
   "version": "3.11.3"
  }
 },
 "nbformat": 4,
 "nbformat_minor": 2
}
