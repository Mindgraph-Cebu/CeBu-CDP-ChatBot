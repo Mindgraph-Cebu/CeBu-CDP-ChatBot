{
 "cells": [
  {
   "cell_type": "code",
   "execution_count": 1,
   "metadata": {},
   "outputs": [],
   "source": [
    "import pandas as pd"
   ]
  },
  {
   "cell_type": "code",
   "execution_count": 3,
   "metadata": {},
   "outputs": [],
   "source": [
    "df = pd.read_parquet(\"data/summary.parquet\")"
   ]
  },
  {
   "cell_type": "code",
   "execution_count": 4,
   "metadata": {},
   "outputs": [
    {
     "data": {
      "text/html": [
       "<div>\n",
       "<style scoped>\n",
       "    .dataframe tbody tr th:only-of-type {\n",
       "        vertical-align: middle;\n",
       "    }\n",
       "\n",
       "    .dataframe tbody tr th {\n",
       "        vertical-align: top;\n",
       "    }\n",
       "\n",
       "    .dataframe thead th {\n",
       "        text-align: right;\n",
       "    }\n",
       "</style>\n",
       "<table border=\"1\" class=\"dataframe\">\n",
       "  <thead>\n",
       "    <tr style=\"text-align: right;\">\n",
       "      <th></th>\n",
       "      <th>customers</th>\n",
       "      <th>journeys</th>\n",
       "      <th>bookers</th>\n",
       "      <th>bookings</th>\n",
       "    </tr>\n",
       "  </thead>\n",
       "  <tbody>\n",
       "    <tr>\n",
       "      <th>0</th>\n",
       "      <td>17851840</td>\n",
       "      <td>37512228</td>\n",
       "      <td>1316354</td>\n",
       "      <td>20300158</td>\n",
       "    </tr>\n",
       "  </tbody>\n",
       "</table>\n",
       "</div>"
      ],
      "text/plain": [
       "   customers  journeys  bookers  bookings\n",
       "0   17851840  37512228  1316354  20300158"
      ]
     },
     "execution_count": 4,
     "metadata": {},
     "output_type": "execute_result"
    }
   ],
   "source": [
    "df.head()"
   ]
  },
  {
   "cell_type": "code",
   "execution_count": 5,
   "metadata": {},
   "outputs": [
    {
     "name": "stdout",
     "output_type": "stream",
     "text": [
      "<class 'pandas.core.frame.DataFrame'>\n",
      "RangeIndex: 1 entries, 0 to 0\n",
      "Data columns (total 4 columns):\n",
      " #   Column     Non-Null Count  Dtype\n",
      "---  ------     --------------  -----\n",
      " 0   customers  1 non-null      int64\n",
      " 1   journeys   1 non-null      int64\n",
      " 2   bookers    1 non-null      int64\n",
      " 3   bookings   1 non-null      int64\n",
      "dtypes: int64(4)\n",
      "memory usage: 164.0 bytes\n"
     ]
    }
   ],
   "source": [
    "df.info()"
   ]
  },
  {
   "cell_type": "code",
   "execution_count": 2,
   "metadata": {},
   "outputs": [],
   "source": [
    "import pandas as pd\n",
    "\n",
    "df = pd.read_parquet(\"profiles/passenger_details/check_passenger.parquet\")"
   ]
  },
  {
   "cell_type": "code",
   "execution_count": 7,
   "metadata": {},
   "outputs": [],
   "source": [
    "mf = df.head(1)"
   ]
  },
  {
   "cell_type": "code",
   "execution_count": 8,
   "metadata": {},
   "outputs": [],
   "source": [
    "mf.to_excel('test.xlsx')"
   ]
  },
  {
   "cell_type": "code",
   "execution_count": 16,
   "metadata": {},
   "outputs": [
    {
     "data": {
      "text/plain": [
       "Index(['passenger_hash', 'FirstName', 'MiddleName', 'LastName',\n",
       "       'HonorificPrefix', 'HonorificSuffix', 'EmailAddress', 'Phone', 'Gender',\n",
       "       'ProvisionalPrimaryKey',\n",
       "       ...\n",
       "       'BookingCurrency_separator_KRW', 'BookingCurrency_separator_VND',\n",
       "       'IsRegistered_separator_Yes', 'IsRegistered_separator_No',\n",
       "       'TravelSoloOrGroup_separator_Group', 'TravelSoloOrGroup_separator_Solo',\n",
       "       'TravelOrigin', 'TravelDestination', 'TravelSeat', 'Details'],\n",
       "      dtype='object', length=103)"
      ]
     },
     "execution_count": 16,
     "metadata": {},
     "output_type": "execute_result"
    }
   ],
   "source": [
    "df.columns"
   ]
  },
  {
   "cell_type": "code",
   "execution_count": 9,
   "metadata": {},
   "outputs": [],
   "source": [
    "kf = df[[\"passenger_hash\",\"FirstName\",\"EmailAddress\",\"Phone\",\"Gender\",\"TotalRevenue\",\"TravelOrigin\",\"TravelDestination\",\"TravelSeat\",\"DateOfBirth\"]].head(500)"
   ]
  },
  {
   "cell_type": "code",
   "execution_count": 10,
   "metadata": {},
   "outputs": [],
   "source": [
    "kf.to_excel('short.xlsx')"
   ]
  },
  {
   "cell_type": "code",
   "execution_count": 11,
   "metadata": {},
   "outputs": [
    {
     "data": {
      "text/html": [
       "<div>\n",
       "<style scoped>\n",
       "    .dataframe tbody tr th:only-of-type {\n",
       "        vertical-align: middle;\n",
       "    }\n",
       "\n",
       "    .dataframe tbody tr th {\n",
       "        vertical-align: top;\n",
       "    }\n",
       "\n",
       "    .dataframe thead th {\n",
       "        text-align: right;\n",
       "    }\n",
       "</style>\n",
       "<table border=\"1\" class=\"dataframe\">\n",
       "  <thead>\n",
       "    <tr style=\"text-align: right;\">\n",
       "      <th></th>\n",
       "      <th>passenger_hash</th>\n",
       "      <th>FirstName</th>\n",
       "      <th>EmailAddress</th>\n",
       "      <th>Phone</th>\n",
       "      <th>Gender</th>\n",
       "      <th>TotalRevenue</th>\n",
       "      <th>TravelOrigin</th>\n",
       "      <th>TravelDestination</th>\n",
       "      <th>TravelSeat</th>\n",
       "      <th>DateOfBirth</th>\n",
       "    </tr>\n",
       "  </thead>\n",
       "  <tbody>\n",
       "    <tr>\n",
       "      <th>0</th>\n",
       "      <td>000368f50608af00251d2e7aaa556e36</td>\n",
       "      <td>VALERIE</td>\n",
       "      <td>Unknown</td>\n",
       "      <td>Unknown</td>\n",
       "      <td>2</td>\n",
       "      <td>39505.220703</td>\n",
       "      <td>{\"MNL\": 2}</td>\n",
       "      <td>{\"MNL_HKG_MNL\": 1, \"HKG_MNL\": 1}</td>\n",
       "      <td>{\"6C_31D_6F\": 1, \"29B_45A\": 1}</td>\n",
       "      <td>1993-11-01</td>\n",
       "    </tr>\n",
       "    <tr>\n",
       "      <th>1</th>\n",
       "      <td>0004ba8a15d6242f67ae9088a45ea3c5</td>\n",
       "      <td>Jocelyn</td>\n",
       "      <td>alfortemonique8@gmail.com</td>\n",
       "      <td>Unknown</td>\n",
       "      <td>2</td>\n",
       "      <td>6064.679932</td>\n",
       "      <td>{\"ZAM\": 1, \"MNL\": 1}</td>\n",
       "      <td>{\"MNL\": 1, \"ZAM\": 1}</td>\n",
       "      <td>{\"24E\": 1, \"19F\": 1}</td>\n",
       "      <td>1965-04-30</td>\n",
       "    </tr>\n",
       "    <tr>\n",
       "      <th>2</th>\n",
       "      <td>000581ed3be74e841d211f5c4d7ccd8c</td>\n",
       "      <td>Jeanne</td>\n",
       "      <td>jeanneperucho27@gmail.com</td>\n",
       "      <td>639369534031</td>\n",
       "      <td>2</td>\n",
       "      <td>11709.080078</td>\n",
       "      <td>{\"MNL\": 1}</td>\n",
       "      <td>{\"BCD_MNL\": 1}</td>\n",
       "      <td>{\"28B_4A\": 1}</td>\n",
       "      <td>1971-02-27</td>\n",
       "    </tr>\n",
       "    <tr>\n",
       "      <th>3</th>\n",
       "      <td>0006cbc5372cb420057df8edb152a4cb</td>\n",
       "      <td>Fhil Anthony</td>\n",
       "      <td>Unknown</td>\n",
       "      <td>Unknown</td>\n",
       "      <td>1</td>\n",
       "      <td>12497.080322</td>\n",
       "      <td>{\"MNL\": 2, \"CGY\": 1}</td>\n",
       "      <td>{\"CGY\": 2, \"MNL\": 1}</td>\n",
       "      <td>{\"27A\": 1, \"12E\": 1, \"28D\": 1}</td>\n",
       "      <td>1991-02-19</td>\n",
       "    </tr>\n",
       "  </tbody>\n",
       "</table>\n",
       "</div>"
      ],
      "text/plain": [
       "                     passenger_hash     FirstName               EmailAddress  \\\n",
       "0  000368f50608af00251d2e7aaa556e36       VALERIE                    Unknown   \n",
       "1  0004ba8a15d6242f67ae9088a45ea3c5       Jocelyn  alfortemonique8@gmail.com   \n",
       "2  000581ed3be74e841d211f5c4d7ccd8c        Jeanne  jeanneperucho27@gmail.com   \n",
       "3  0006cbc5372cb420057df8edb152a4cb  Fhil Anthony                    Unknown   \n",
       "\n",
       "          Phone Gender  TotalRevenue          TravelOrigin  \\\n",
       "0       Unknown      2  39505.220703            {\"MNL\": 2}   \n",
       "1       Unknown      2   6064.679932  {\"ZAM\": 1, \"MNL\": 1}   \n",
       "2  639369534031      2  11709.080078            {\"MNL\": 1}   \n",
       "3       Unknown      1  12497.080322  {\"MNL\": 2, \"CGY\": 1}   \n",
       "\n",
       "                  TravelDestination                      TravelSeat  \\\n",
       "0  {\"MNL_HKG_MNL\": 1, \"HKG_MNL\": 1}  {\"6C_31D_6F\": 1, \"29B_45A\": 1}   \n",
       "1              {\"MNL\": 1, \"ZAM\": 1}            {\"24E\": 1, \"19F\": 1}   \n",
       "2                    {\"BCD_MNL\": 1}                   {\"28B_4A\": 1}   \n",
       "3              {\"CGY\": 2, \"MNL\": 1}  {\"27A\": 1, \"12E\": 1, \"28D\": 1}   \n",
       "\n",
       "  DateOfBirth  \n",
       "0  1993-11-01  \n",
       "1  1965-04-30  \n",
       "2  1971-02-27  \n",
       "3  1991-02-19  "
      ]
     },
     "execution_count": 11,
     "metadata": {},
     "output_type": "execute_result"
    }
   ],
   "source": [
    "kf.head(4)"
   ]
  },
  {
   "cell_type": "code",
   "execution_count": 3,
   "metadata": {},
   "outputs": [],
   "source": [
    "df = pd.read_csv(\"data/airlines.csv\")"
   ]
  },
  {
   "cell_type": "code",
   "execution_count": 4,
   "metadata": {},
   "outputs": [
    {
     "data": {
      "text/plain": [
       "Index(['Airline ID', 'Name', 'Alias', 'IATA', 'ICAO', 'Callsign', 'Country',\n",
       "       'Active'],\n",
       "      dtype='object')"
      ]
     },
     "execution_count": 4,
     "metadata": {},
     "output_type": "execute_result"
    }
   ],
   "source": [
    "df.columns"
   ]
  },
  {
   "cell_type": "code",
   "execution_count": 5,
   "metadata": {},
   "outputs": [
    {
     "data": {
      "text/html": [
       "<div>\n",
       "<style scoped>\n",
       "    .dataframe tbody tr th:only-of-type {\n",
       "        vertical-align: middle;\n",
       "    }\n",
       "\n",
       "    .dataframe tbody tr th {\n",
       "        vertical-align: top;\n",
       "    }\n",
       "\n",
       "    .dataframe thead th {\n",
       "        text-align: right;\n",
       "    }\n",
       "</style>\n",
       "<table border=\"1\" class=\"dataframe\">\n",
       "  <thead>\n",
       "    <tr style=\"text-align: right;\">\n",
       "      <th></th>\n",
       "      <th>Airline ID</th>\n",
       "      <th>Name</th>\n",
       "      <th>Alias</th>\n",
       "      <th>IATA</th>\n",
       "      <th>ICAO</th>\n",
       "      <th>Callsign</th>\n",
       "      <th>Country</th>\n",
       "      <th>Active</th>\n",
       "    </tr>\n",
       "  </thead>\n",
       "  <tbody>\n",
       "    <tr>\n",
       "      <th>0</th>\n",
       "      <td>-1</td>\n",
       "      <td>Unknown</td>\n",
       "      <td>\\N</td>\n",
       "      <td>-</td>\n",
       "      <td>NaN</td>\n",
       "      <td>\\N</td>\n",
       "      <td>\\N</td>\n",
       "      <td>Y</td>\n",
       "    </tr>\n",
       "    <tr>\n",
       "      <th>1</th>\n",
       "      <td>1</td>\n",
       "      <td>Private flight</td>\n",
       "      <td>\\N</td>\n",
       "      <td>-</td>\n",
       "      <td>NaN</td>\n",
       "      <td>NaN</td>\n",
       "      <td>NaN</td>\n",
       "      <td>Y</td>\n",
       "    </tr>\n",
       "    <tr>\n",
       "      <th>2</th>\n",
       "      <td>2</td>\n",
       "      <td>135 Airways</td>\n",
       "      <td>\\N</td>\n",
       "      <td>NaN</td>\n",
       "      <td>GNL</td>\n",
       "      <td>GENERAL</td>\n",
       "      <td>United States</td>\n",
       "      <td>N</td>\n",
       "    </tr>\n",
       "    <tr>\n",
       "      <th>3</th>\n",
       "      <td>3</td>\n",
       "      <td>1Time Airline</td>\n",
       "      <td>\\N</td>\n",
       "      <td>1T</td>\n",
       "      <td>RNX</td>\n",
       "      <td>NEXTIME</td>\n",
       "      <td>South Africa</td>\n",
       "      <td>Y</td>\n",
       "    </tr>\n",
       "    <tr>\n",
       "      <th>4</th>\n",
       "      <td>4</td>\n",
       "      <td>2 Sqn No 1 Elementary Flying Training School</td>\n",
       "      <td>\\N</td>\n",
       "      <td>NaN</td>\n",
       "      <td>WYT</td>\n",
       "      <td>NaN</td>\n",
       "      <td>United Kingdom</td>\n",
       "      <td>N</td>\n",
       "    </tr>\n",
       "  </tbody>\n",
       "</table>\n",
       "</div>"
      ],
      "text/plain": [
       "   Airline ID                                          Name Alias IATA ICAO  \\\n",
       "0          -1                                       Unknown    \\N    -  NaN   \n",
       "1           1                                Private flight    \\N    -  NaN   \n",
       "2           2                                   135 Airways    \\N  NaN  GNL   \n",
       "3           3                                 1Time Airline    \\N   1T  RNX   \n",
       "4           4  2 Sqn No 1 Elementary Flying Training School    \\N  NaN  WYT   \n",
       "\n",
       "  Callsign         Country Active  \n",
       "0       \\N              \\N      Y  \n",
       "1      NaN             NaN      Y  \n",
       "2  GENERAL   United States      N  \n",
       "3  NEXTIME    South Africa      Y  \n",
       "4      NaN  United Kingdom      N  "
      ]
     },
     "execution_count": 5,
     "metadata": {},
     "output_type": "execute_result"
    }
   ],
   "source": [
    "df.head(5)"
   ]
  },
  {
   "cell_type": "code",
   "execution_count": null,
   "metadata": {},
   "outputs": [],
   "source": []
  }
 ],
 "metadata": {
  "kernelspec": {
   "display_name": "Python 3",
   "language": "python",
   "name": "python3"
  },
  "language_info": {
   "codemirror_mode": {
    "name": "ipython",
    "version": 3
   },
   "file_extension": ".py",
   "mimetype": "text/x-python",
   "name": "python",
   "nbconvert_exporter": "python",
   "pygments_lexer": "ipython3",
   "version": "3.11.3"
  }
 },
 "nbformat": 4,
 "nbformat_minor": 2
}
