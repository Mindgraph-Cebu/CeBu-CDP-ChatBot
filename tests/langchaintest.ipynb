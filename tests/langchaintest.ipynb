{
 "cells": [
  {
   "cell_type": "code",
   "execution_count": 1,
   "metadata": {},
   "outputs": [],
   "source": [
    "from langchain.agents import create_sql_agent\n",
    "from langchain.agents.agent_toolkits import SQLDatabaseToolkit\n",
    "from langchain.sql_database import SQLDatabase\n",
    "from langchain.agents import AgentExecutor\n",
    "from langchain.agents.agent_types import AgentType\n",
    "from langchain.llms import AzureOpenAI"
   ]
  },
  {
   "cell_type": "code",
   "execution_count": 2,
   "metadata": {},
   "outputs": [],
   "source": [
    "import duckdb"
   ]
  },
  {
   "cell_type": "code",
   "execution_count": 3,
   "metadata": {},
   "outputs": [],
   "source": [
    "conn = duckdb.connect(database='profiles.db')"
   ]
  },
  {
   "cell_type": "code",
   "execution_count": 6,
   "metadata": {},
   "outputs": [
    {
     "data": {
      "text/plain": [
       "<duckdb.DuckDBPyConnection at 0x2479283e930>"
      ]
     },
     "execution_count": 6,
     "metadata": {},
     "output_type": "execute_result"
    }
   ],
   "source": [
    "conn.execute(\"INSTALL spatial;\")"
   ]
  },
  {
   "cell_type": "code",
   "execution_count": 7,
   "metadata": {},
   "outputs": [
    {
     "data": {
      "text/plain": [
       "<duckdb.DuckDBPyConnection at 0x2479283e930>"
      ]
     },
     "execution_count": 7,
     "metadata": {},
     "output_type": "execute_result"
    }
   ],
   "source": [
    "conn.execute(\"LOAD spatial;\")"
   ]
  },
  {
   "cell_type": "code",
   "execution_count": 9,
   "metadata": {},
   "outputs": [
    {
     "data": {
      "text/plain": [
       "<duckdb.DuckDBPyConnection at 0x2479283e930>"
      ]
     },
     "execution_count": 9,
     "metadata": {},
     "output_type": "execute_result"
    }
   ],
   "source": [
    "conn.execute(\"CREATE TABLE profile AS SELECT * FROM st_read('passenger_Data.xlsx', layer='passenger_data')\")"
   ]
  },
  {
   "cell_type": "code",
   "execution_count": 10,
   "metadata": {},
   "outputs": [
    {
     "data": {
      "text/plain": [
       "<duckdb.DuckDBPyConnection at 0x2479283e930>"
      ]
     },
     "execution_count": 10,
     "metadata": {},
     "output_type": "execute_result"
    }
   ],
   "source": [
    "conn.execute(\"INSTALL sqlite;\")"
   ]
  },
  {
   "cell_type": "code",
   "execution_count": 11,
   "metadata": {},
   "outputs": [],
   "source": [
    "uri = \"duckdb:///profiles.db\""
   ]
  },
  {
   "cell_type": "code",
   "execution_count": 7,
   "metadata": {},
   "outputs": [],
   "source": [
    "from sqlalchemy import create_engine"
   ]
  },
  {
   "cell_type": "code",
   "execution_count": 8,
   "metadata": {},
   "outputs": [],
   "source": [
    "engine = create_engine(uri)"
   ]
  },
  {
   "cell_type": "code",
   "execution_count": 12,
   "metadata": {},
   "outputs": [
    {
     "name": "stderr",
     "output_type": "stream",
     "text": [
      "C:\\Users\\Mind-Graph\\AppData\\Roaming\\Python\\Python311\\site-packages\\duckdb_engine\\__init__.py:162: DuckDBEngineWarning: duckdb-engine doesn't yet support reflection on indices\n",
      "  warnings.warn(\n"
     ]
    }
   ],
   "source": [
    "db = SQLDatabase.from_uri(uri,include_tables=['profile'])"
   ]
  },
  {
   "cell_type": "code",
   "execution_count": 13,
   "metadata": {},
   "outputs": [],
   "source": [
    "from langchain.chat_models import AzureChatOpenAI"
   ]
  },
  {
   "cell_type": "code",
   "execution_count": 14,
   "metadata": {},
   "outputs": [],
   "source": [
    "llm = AzureChatOpenAI(model=\"gpt-35-turbo\",\n",
    "                      openai_api_key=\"2dd4400d079a4fd49ddd2e864802522a\",\n",
    "                      openai_api_base=\"https://genai-interns.openai.azure.com/\",\n",
    "                      deployment_name=\"genai\",\n",
    "                      openai_api_version=\"2023-07-01-preview\",\n",
    "                      temperature=0,)"
   ]
  },
  {
   "cell_type": "code",
   "execution_count": 15,
   "metadata": {},
   "outputs": [],
   "source": [
    "toolkit = SQLDatabaseToolkit(db=db, llm=llm)"
   ]
  },
  {
   "cell_type": "code",
   "execution_count": 13,
   "metadata": {},
   "outputs": [],
   "source": [
    "from langchain.prompts.chat import ChatPromptTemplate"
   ]
  },
  {
   "cell_type": "code",
   "execution_count": 19,
   "metadata": {},
   "outputs": [],
   "source": [
    "template = (\"\"\"\n",
    "            You are a SQL Analyst that is querying a database of a summary of a airline .\n",
    "            \n",
    "            Below is a description of the columns ,data types , and information in the columns:\n",
    "            \n",
    "            The column name Passenger_name with the data type object contains the names of the passengers\n",
    "            \n",
    "            The column name Arrival_station with the data type object contains the arrival station of the passenger\n",
    "            \n",
    "            The column name Departure_station with the data type object contains the departure station of the passenger\n",
    "            \n",
    "            The column name Date_of_birth with the data type DateTime contains the data of birth of the passenger\n",
    "            \n",
    "            The column name Gender with the data type object contains the gender of the passenger\n",
    "            \n",
    "            The column name Meals with the data type object contains the data of meals consumed of the passenger\n",
    "            \n",
    "            The column name Baggage with the data type object contains the data of Baggage consumed of the passenger\n",
    "            \n",
    "            The column name Revenue with the data type float64 contains the data of Revenue generated by the passenger\n",
    "            \n",
    "            The column name Country with the data type object contains the data of Country the passenger belongs too\n",
    "            \n",
    "            The column name Unique_passenger_id with the data type object contains the data of unique passenger id of the passenger\n",
    "            \n",
    "            The column name Travel_Date with the data type DateTime contains the data of the date travelled by the passenger\n",
    "            \n",
    "            Your job is to answer the following questions:\n",
    "            {query}\n",
    "            \"\"\")"
   ]
  },
  {
   "cell_type": "code",
   "execution_count": 20,
   "metadata": {},
   "outputs": [],
   "source": [
    "agent= create_sql_agent(\n",
    "    llm=llm,\n",
    "    toolkit=toolkit,\n",
    "    verbose=True,\n",
    "    agent_type=AgentType.ZERO_SHOT_REACT_DESCRIPTION\n",
    ")"
   ]
  },
  {
   "cell_type": "code",
   "execution_count": 21,
   "metadata": {},
   "outputs": [],
   "source": [
    "from langchain.prompts import PromptTemplate"
   ]
  },
  {
   "cell_type": "code",
   "execution_count": 22,
   "metadata": {},
   "outputs": [],
   "source": [
    "prompt = PromptTemplate.from_template(template)"
   ]
  },
  {
   "cell_type": "code",
   "execution_count": 27,
   "metadata": {},
   "outputs": [
    {
     "name": "stdout",
     "output_type": "stream",
     "text": [
      "\n",
      "\n",
      "\u001b[1m> Entering new AgentExecutor chain...\u001b[0m\n",
      "\u001b[32;1m\u001b[1;3mAction: sql_db_list_tables\n",
      "Action Input: \"\"\u001b[0m\n",
      "Observation: \u001b[38;5;200m\u001b[1;3mprofile\u001b[0m\n",
      "Thought:\u001b[32;1m\u001b[1;3mThe table \"profile\" seems relevant. I should query its schema.\n",
      "Action: sql_db_schema\n",
      "Action Input: \"profile\"\u001b[0m\n",
      "Observation: \u001b[33;1m\u001b[1;3m\n",
      "CREATE TABLE profile (\n",
      "\t\"Passenger_name\" VARCHAR, \n",
      "\t\"Arrival_station\" VARCHAR, \n",
      "\t\"Departure_station\" VARCHAR, \n",
      "\t\"Date_of_birth\" DATE, \n",
      "\t\"Gender\" VARCHAR, \n",
      "\t\"Meals\" VARCHAR, \n",
      "\t\"Baggage\" VARCHAR, \n",
      "\t\"Revenue\" DOUBLE PRECISION, \n",
      "\t\"Country\" VARCHAR, \n",
      "\t\"Unique_passenger_id\" VARCHAR, \n",
      "\t\"Travel_date\" DATE\n",
      ")\n",
      "\n",
      "/*\n",
      "3 rows from profile table:\n",
      "Passenger_name\tArrival_station\tDeparture_station\tDate_of_birth\tGender\tMeals\tBaggage\tRevenue\tCountry\tUnique_passenger_id\tTravel_date\n",
      "Cathy Baker\tSan Francisco\tMiami\t1960-09-15\tMale\tVegetarian\tchecked baggage allowance = 16kg\t741.02\tNew Zealand\tP0000\t2023-08-08\n",
      "Joanne Brown\tMiami\tChicago\t1968-12-24\tFemale\tVegan\tchecked baggage allowance = 23kg\t795.99\tAntarctica (the territory South of 60 deg S)\tP0001\t2023-04-07\n",
      "Brian Logan\tChicago\tChicago\t1970-02-08\tMale\tGluten-free\tchecked baggage allowance = 18kg\t961.07\tNigeria\tP0002\t2023-10-04\n",
      "*/\u001b[0m\n",
      "Thought:\u001b[32;1m\u001b[1;3mI can query the \"profile\" table to get the revenue generated in 2023 and then use that information to estimate the revenue for March 2024.\n",
      "Action: sql_db_query\n",
      "Action Input: \"SELECT SUM(Revenue) FROM profile WHERE EXTRACT(YEAR FROM Travel_date) = 2023\"\u001b[0m\n",
      "Observation: \u001b[36;1m\u001b[1;3m[(550253.6500000007,)]\u001b[0m\n",
      "Thought:\u001b[32;1m\u001b[1;3mThe total revenue generated in 2023 is $550,253.65. Now I can estimate the revenue for March 2024.\n",
      "Action: sql_db_query\n",
      "Action Input: \"SELECT SUM(Revenue) FROM profile WHERE EXTRACT(YEAR FROM Travel_date) = 2024 AND EXTRACT(MONTH FROM Travel_date) = 3\"\u001b[0m\n",
      "Observation: \u001b[36;1m\u001b[1;3m[(None,)]\u001b[0m\n",
      "Thought:\u001b[32;1m\u001b[1;3mThere is no revenue data available for March 2024 in the database. Therefore, I don't have enough information to estimate the revenue for that month.\n",
      "Final Answer: I don't know.\u001b[0m\n",
      "\n",
      "\u001b[1m> Finished chain.\u001b[0m\n"
     ]
    },
    {
     "data": {
      "text/plain": [
       "\"I don't know.\""
      ]
     },
     "execution_count": 27,
     "metadata": {},
     "output_type": "execute_result"
    }
   ],
   "source": [
    "agent.run(prompt.format(query=\"based on the revenue generated on 2023 what do you think will be the revenue for march of 2024\"))"
   ]
  },
  {
   "cell_type": "code",
   "execution_count": 16,
   "metadata": {},
   "outputs": [],
   "source": [
    "import pandas as pd\n"
   ]
  },
  {
   "cell_type": "code",
   "execution_count": 17,
   "metadata": {},
   "outputs": [],
   "source": [
    "df = pd.read_excel(\"passenger_Data.xlsx\")"
   ]
  },
  {
   "cell_type": "code",
   "execution_count": 18,
   "metadata": {},
   "outputs": [
    {
     "name": "stdout",
     "output_type": "stream",
     "text": [
      "<class 'pandas.core.frame.DataFrame'>\n",
      "RangeIndex: 1000 entries, 0 to 999\n",
      "Data columns (total 11 columns):\n",
      " #   Column               Non-Null Count  Dtype         \n",
      "---  ------               --------------  -----         \n",
      " 0   Passenger_name       1000 non-null   object        \n",
      " 1   Arrival_station      1000 non-null   object        \n",
      " 2   Departure_station    1000 non-null   object        \n",
      " 3   Date_of_birth        1000 non-null   datetime64[ns]\n",
      " 4   Gender               1000 non-null   object        \n",
      " 5   Meals                1000 non-null   object        \n",
      " 6   Baggage              1000 non-null   object        \n",
      " 7   Revenue              1000 non-null   float64       \n",
      " 8   Country              1000 non-null   object        \n",
      " 9   Unique_passenger_id  1000 non-null   object        \n",
      " 10  Travel_date          1000 non-null   datetime64[ns]\n",
      "dtypes: datetime64[ns](2), float64(1), object(8)\n",
      "memory usage: 86.1+ KB\n"
     ]
    }
   ],
   "source": [
    "df.info()"
   ]
  },
  {
   "cell_type": "code",
   "execution_count": null,
   "metadata": {},
   "outputs": [],
   "source": []
  }
 ],
 "metadata": {
  "kernelspec": {
   "display_name": "Python 3",
   "language": "python",
   "name": "python3"
  },
  "language_info": {
   "codemirror_mode": {
    "name": "ipython",
    "version": 3
   },
   "file_extension": ".py",
   "mimetype": "text/x-python",
   "name": "python",
   "nbconvert_exporter": "python",
   "pygments_lexer": "ipython3",
   "version": "3.11.3"
  }
 },
 "nbformat": 4,
 "nbformat_minor": 2
}
